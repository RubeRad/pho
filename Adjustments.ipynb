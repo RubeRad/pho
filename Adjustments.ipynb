{
 "cells": [
  {
   "cell_type": "markdown",
   "id": "bcc5559c",
   "metadata": {},
   "source": [
    "# Linear/Nonlinear Adjustments"
   ]
  },
  {
   "cell_type": "markdown",
   "id": "ec343acd",
   "metadata": {},
   "source": [
    "## Critical quantities\n",
    "\n",
    "These 5 values need to be determined every time\n",
    "\n",
    "* $n$: The number of observations (they are uncertain i.e. have covariance $\\Sigma$ -- which is the point).\n",
    "* $n_0$: The number of values (observations or parameters) that need to be fixed to determine 'the model'.\n",
    "* $r$: Redundancy: $r=n-n_0$.\n",
    "* $u$: Number of unknown parameters.\n",
    "* $c$: Number of condition equations: $c=r+u$.\n",
    "\n",
    "The first 3 are determined analytically, then $u$ and $c$ flow from them."
   ]
  },
  {
   "cell_type": "markdown",
   "id": "f891fa93",
   "metadata": {},
   "source": [
    "## Method of Indirect Observations\n",
    "In this method we solve for the parameters of the model, so $u=n_0$. For instance for fitting a line, parameters are slope and intercept $m,b$, so $n_0=u=2$.\n",
    "\n",
    "Once the $c=r+u$ condition equations are written, with all uncertain observations $\\hat{l}_i$ expanded to solved observations plus residuals $l_i + v_i$, the linear system is formed/rearranged as $$v + B\\Delta=f$$\n",
    "\n",
    "Then the solution method is this series of matrix calculations:\n",
    "\n",
    "* Weight matrix $W=\\Sigma^{-1}$\n",
    "* Normal equations: $N=B'WB$ and $t=B'Wf$\n",
    "* Parameter solution: solve $N\\Delta=t \\Rightarrow \\Delta = N^{-1}t$\n",
    "* Residuals: $v=f-B\\Delta$\n",
    "* Covariance of parameters: $\\Sigma_{\\Delta\\Delta} = N^{-1}$\n",
    "* Covariance of residuals: $\\Sigma_{vv} = \\Sigma - BQ_{\\Delta\\Delta}B'$\n",
    "* Adjusted observations: $\\hat{l} = l + v$\n",
    "* Covariance of $\\hat{l}$: $\\Sigma_{\\hat{l}\\hat{l}}=\\Sigma-\\Sigma{vv}$\n",
    "\n",
    "\n"
   ]
  },
  {
   "cell_type": "code",
   "execution_count": 1,
   "id": "e1c464ef",
   "metadata": {},
   "outputs": [],
   "source": [
    "import numpy as np\n",
    "import matplotlib.pyplot as plt"
   ]
  },
  {
   "cell_type": "code",
   "execution_count": 2,
   "id": "851038bb",
   "metadata": {},
   "outputs": [],
   "source": [
    "def print_indirect_observations(B, f, l=None, Q=None):\n",
    "    c,u = B.shape\n",
    "    r = c-u\n",
    "    n0 = u      # always for indirect observations\n",
    "    n  = n0 + r # always\n",
    "    print('Problem shape:')\n",
    "    print('  n:', n)\n",
    "    print(' n0:', n0)\n",
    "    print('  r:', r)\n",
    "    print('  u:', u)\n",
    "    print('  c:', c)\n",
    "    \n",
    "    print('Problem:')\n",
    "    print('B:\\n', B)\n",
    "    print('f:', f.transpose())\n",
    "    if Q is None: Q = np.eye(n)\n",
    "    print('Q:\\n', Q)\n",
    "    \n",
    "    print('\\nNormal Equations:')\n",
    "    W = np.linalg.inv(Q)\n",
    "    print('Weight:\\n',W)\n",
    "    N = B.transpose() @ W @ B\n",
    "    t = B.transpose() @ W @ f\n",
    "    print('N:\\n', N)\n",
    "    print('t:', t.transpose())\n",
    "    \n",
    "    print('\\nSolution')\n",
    "    d = np.linalg.solve(N,t)\n",
    "    print('Parameters:', d.transpose())\n",
    "    Qdd = np.linalg.inv(N)\n",
    "    print('Parameter covariance:\\n',Qdd) \n",
    "    \n",
    "    v = f - B@d\n",
    "    print('Residuals:', v.transpose())\n",
    "    Qvv = Q - B @ Qdd @ B.transpose()\n",
    "    print('Residual covariance:\\n', Qvv)\n",
    "    \n",
    "    if l is not None:\n",
    "        lhat = l + v\n",
    "        print('Original observations:', l.transpose())\n",
    "        print('Adjusted observations:', lhat.transpose())\n",
    "        Qll = Q - Qvv\n",
    "        print('Covariance:\\n',Qll)\n",
    "    "
   ]
  },
  {
   "cell_type": "markdown",
   "id": "9ad278ff",
   "metadata": {},
   "source": [
    "Line fit example: points (1,1.1), (2,1.2), (3,1.5), (4,1.9) with $s_i=0.1$. \n",
    "\n",
    "* $n=4$: the four $y_i$\n",
    "* $n_0=2$: line parameters $m,b$\n",
    "* $r=2$\n",
    "* $u=2$, we are solving for unknowns $\\Delta=(m,b)$\n",
    "* $c=4$, the line equations $\\hat{y_i}=(y_i+v_i) = mx_i + b$\n",
    "\n",
    "Condition equations reshape to $v+B\\Delta=f$ as: $$v_i + -mx_i - b = -y_i$$"
   ]
  },
  {
   "cell_type": "code",
   "execution_count": 3,
   "id": "5415f7c9",
   "metadata": {},
   "outputs": [
    {
     "name": "stdout",
     "output_type": "stream",
     "text": [
      "Problem shape:\n",
      "  n: 4\n",
      " n0: 2\n",
      "  r: 2\n",
      "  u: 2\n",
      "  c: 4\n",
      "Problem:\n",
      "B:\n",
      " [[-1 -1]\n",
      " [-2 -1]\n",
      " [-3 -1]\n",
      " [-4 -1]]\n",
      "f: [[-1.1 -1.2 -1.5 -1.9]]\n",
      "Q:\n",
      " [[0.01 0.   0.   0.  ]\n",
      " [0.   0.01 0.   0.  ]\n",
      " [0.   0.   0.01 0.  ]\n",
      " [0.   0.   0.   0.01]]\n",
      "\n",
      "Normal Equations:\n",
      "Weight:\n",
      " [[100.   0.   0.   0.]\n",
      " [  0. 100.   0.   0.]\n",
      " [  0.   0. 100.   0.]\n",
      " [  0.   0.   0. 100.]]\n",
      "N:\n",
      " [[3000. 1000.]\n",
      " [1000.  400.]]\n",
      "t: [[1560.  570.]]\n",
      "\n",
      "Solution\n",
      "Parameters: [[0.27 0.75]]\n",
      "Parameter covariance:\n",
      " [[ 0.002 -0.005]\n",
      " [-0.005  0.015]]\n",
      "Residuals: [[-0.08  0.09  0.06 -0.07]]\n",
      "Residual covariance:\n",
      " [[ 0.003 -0.004 -0.001  0.002]\n",
      " [-0.004  0.007 -0.002 -0.001]\n",
      " [-0.001 -0.002  0.007 -0.004]\n",
      " [ 0.002 -0.001 -0.004  0.003]]\n",
      "Original observations: [[1.1 1.2 1.5 1.9]]\n",
      "Adjusted observations: [[1.02 1.29 1.56 1.83]]\n",
      "Covariance:\n",
      " [[ 0.007  0.004  0.001 -0.002]\n",
      " [ 0.004  0.003  0.002  0.001]\n",
      " [ 0.001  0.002  0.003  0.004]\n",
      " [-0.002  0.001  0.004  0.007]]\n"
     ]
    }
   ],
   "source": [
    "l = np.array([1.1, 1.2, 1.5, 1.9]).reshape( (4,1) )\n",
    "B = np.array([ [-1,-1], [-2,-1], [-3,-1], [-4,-1] ])\n",
    "f = -l\n",
    "Q = np.eye(4) * 0.1*0.1\n",
    "print_indirect_observations(B, f, -f, Q)"
   ]
  },
  {
   "cell_type": "markdown",
   "id": "a1c65063",
   "metadata": {},
   "source": [
    "## Method of Observations Only\n",
    "In this method, the parameters are not solved for, so $u=0$ and thus $c=r$. All that is solved for is residuals (adjustments to the observations). The condition equations are shaped as $$Av=f$$\n",
    "\n",
    "And then the solution method is:\n",
    "* Equivalent covariance matrix: $\\Sigma_e = A\\Sigma A'$\n",
    "* Equivalent weight matrix: $W_e = \\Sigma_e^-1$\n",
    "* Residuals: $v = \\Sigma A'W_e f$\n",
    "* Covariance of residuals: $\\Sigma_{vv} = \\Sigma A' W_e A \\Sigma$\n",
    "* Adjusted observations: $\\hat{l} = l + v$\n",
    "* Covariance of $\\hat{l}$: $\\Sigma_{\\hat{l}\\hat{l}}=\\Sigma-\\Sigma{vv}$\n"
   ]
  },
  {
   "cell_type": "code",
   "execution_count": 4,
   "id": "e88c3c97",
   "metadata": {},
   "outputs": [],
   "source": [
    "def print_observations_only(A,f,l=None,Q=None):\n",
    "    c,n = A.shape\n",
    "    u = 0     # always for observations only\n",
    "    r = c-u   # always c=r+u\n",
    "    n0 = n-r  # always r=n-n0\n",
    "    print('Problem shape:')\n",
    "    print('  n:', n)\n",
    "    print(' n0:', n0)\n",
    "    print('  r:', r)\n",
    "    print('  u:', u)\n",
    "    print('  c:', c)\n",
    "    \n",
    "    print('Problem:')\n",
    "    print('A:\\n', A)\n",
    "    print('f:', f.transpose())\n",
    "    if Q is None: Q = np.eye(n)\n",
    "    print('Q:\\n', Q)\n",
    "    \n",
    "    print('\\nSolution:')\n",
    "    Qe = A @ Q @ A.transpose()\n",
    "    print('Equiv cov:\\n', Qe)\n",
    "    We = np.linalg.inv(Qe)\n",
    "    print('Equiv wgt:\\n', We)\n",
    "    v = Q @ A.transpose() @ We @ f\n",
    "    print('Residuals:', v.transpose())\n",
    "    Qvv = Q @ A.transpose() @ We @ A @ Q\n",
    "    print('Covariance:\\n', Qvv)\n",
    "    if l is not None:\n",
    "        lhat = l + v\n",
    "        print('Adjusted obs:', lhat.transpose())\n",
    "        Qll = Q - Qvv\n",
    "        print('Covariance:\\n', Qll)"
   ]
  },
  {
   "cell_type": "markdown",
   "id": "499d5ac6",
   "metadata": {},
   "source": [
    "For the class Line fit example with observations only: points (1,1.1), (2,1.2), (3,1.5), (4,1.9) with $s_i=0.1$. \n",
    "\n",
    "* $n=4$: the four $y_i$\n",
    "* $n_0=2$: \n",
    "* $r=2$\n",
    "* $u=0$ always for Observations Only\n",
    "* $c=r+u=2$, two equations to relate all the $y_i$ via slope conditions.\n",
    "\n",
    "$$\\frac{y_2-y_1}{2-1}=\\frac{y_3-y_1}{3-1}$$\n",
    "$$\\frac{y_2-y_1}{2-1}=\\frac{y_4-y_1}{4-1}$$ \n",
    "\n",
    "Those need to be rearranged to the form $Av=f$ "
   ]
  },
  {
   "cell_type": "markdown",
   "id": "45f9518c",
   "metadata": {},
   "source": [
    "$$2\\hat{y}_2-2\\hat{y}_1=\\hat{y}_3-{y}_1\\rightarrow -(y_1+v_1) + 2(y_2+v_2) - (y_3+v_3) = 0\\rightarrow\n",
    "-v_1 + 2v_2 - v_3 = y_1 - 2y_2 + y_3$$\n",
    "$$3\\hat{y}_2-3\\hat{y}_1=\\hat{y}_4-{y}_1\\rightarrow -2(y_1+v_1) + 3(y_2+v_2) - (y_4+v_4) = 0\\rightarrow\n",
    "-2v_1 + 3v_2 - v_4 = 2y_1 - 3y_2 + y_4$$\n"
   ]
  },
  {
   "cell_type": "code",
   "execution_count": 5,
   "id": "2ae29642",
   "metadata": {},
   "outputs": [
    {
     "name": "stdout",
     "output_type": "stream",
     "text": [
      "Problem shape:\n",
      "  n: 4\n",
      " n0: 2\n",
      "  r: 2\n",
      "  u: 0\n",
      "  c: 2\n",
      "Problem:\n",
      "A:\n",
      " [[-1  2 -1  0]\n",
      " [-2  3  0 -1]]\n",
      "f: [[0.2 0.5]]\n",
      "Q:\n",
      " [[0.01 0.   0.   0.  ]\n",
      " [0.   0.01 0.   0.  ]\n",
      " [0.   0.   0.01 0.  ]\n",
      " [0.   0.   0.   0.01]]\n",
      "\n",
      "Solution:\n",
      "Equiv cov:\n",
      " [[0.06 0.08]\n",
      " [0.08 0.14]]\n",
      "Equiv wgt:\n",
      " [[ 70. -40.]\n",
      " [-40.  30.]]\n",
      "Residuals: [[-0.08  0.09  0.06 -0.07]]\n",
      "Covariance:\n",
      " [[ 0.003 -0.004 -0.001  0.002]\n",
      " [-0.004  0.007 -0.002 -0.001]\n",
      " [-0.001 -0.002  0.007 -0.004]\n",
      " [ 0.002 -0.001 -0.004  0.003]]\n",
      "Adjusted obs: [[1.02 1.29 1.56 1.83]]\n",
      "Covariance:\n",
      " [[ 0.007  0.004  0.001 -0.002]\n",
      " [ 0.004  0.003  0.002  0.001]\n",
      " [ 0.001  0.002  0.003  0.004]\n",
      " [-0.002  0.001  0.004  0.007]]\n"
     ]
    }
   ],
   "source": [
    "A = np.array([[-1,2,-1,0],[-2,3,0,-1]])\n",
    "f = np.array([[1.1-2*1.2+1.5], [2*1.1-3*1.2+1.9]])\n",
    "print_observations_only(A,f,l,Q)"
   ]
  },
  {
   "cell_type": "markdown",
   "id": "0a94ff46",
   "metadata": {},
   "source": [
    "## General method\n",
    "The General method combines both Indirect Observations and Observations only, for a full form of $$Av + B\\Delta=f$$. It also requires initial estimates of the parameters, and iteration to convergence.\n",
    "\n",
    "* Equivalent covariance matrix: $\\Sigma_e = A\\Sigma A'$\n",
    "* Equivalent weight matrix: $W_e = \\Sigma_e^-1$\n",
    "* Normal equations: $N=B'W_eB$ and $t=B'W_e f$\n",
    "* Parameter solution: $N\\Delta=t$\n",
    "* Residuals: $v=\\Sigma A'W_e(f-B\\Delta)$\n",
    "* Adjusted observations: $\\hat{l}=l+v$\n",
    "* Covariance of Parameters: $\\Sigma_{\\Delta\\Delta} = N^{-1}$\n",
    "* Covariance of Residuals: $\\Sigma_{vv} = \\Sigma A'(W_e - W_eBN^{-1}B'W_e)A\\Sigma$\n",
    "* Covariance of Adjusted Observations: $\\Sigma_{\\hat{l}\\hat{l}} = \\Sigma - \\Sigma_{vv}$\n",
    "\n"
   ]
  },
  {
   "cell_type": "code",
   "execution_count": 6,
   "id": "715b13c1",
   "metadata": {},
   "outputs": [],
   "source": [
    "# Sqrt the diagonal variances to sigmas\n",
    "# Divide the diagonal sigmas out of the off-diagonal covariances to leave correlations\n",
    "def correlation_matrix(Q):\n",
    "    C = Q\n",
    "    n = C.shape[0]\n",
    "    for i in range(n): \n",
    "        C[i,i] = np.sqrt(Q[i,i])\n",
    "    for i in range(n):\n",
    "        for j in range(i+1,n):\n",
    "            C[i,j] = Q[i,j] / (C[i,i] * C[j,j])\n",
    "            C[j,i] = C[i,j]\n",
    "            \n",
    "    return(C)"
   ]
  },
  {
   "cell_type": "code",
   "execution_count": 7,
   "id": "558afb72",
   "metadata": {},
   "outputs": [],
   "source": [
    "# For linear problems, apparently one iteration always suffices\n",
    "# For nonlinear, we iterate til convergence\n",
    "\n",
    "def general_iteration(A, B, f, l, Q, d, final=False):\n",
    "    Qe = A @ Q @ A.transpose()\n",
    "    We = np.linalg.inv(Qe)\n",
    "    N = B.transpose() @ We @ B\n",
    "    t = B.transpose() @ We @ f\n",
    "    Qdd = np.linalg.inv(N)\n",
    "    dd = Qdd @ t\n",
    "    d += dd\n",
    "    if final:\n",
    "        print('Parameter corrections:', dd.transpose())\n",
    "        print('Covariance:\\n',Qdd)\n",
    "        print('Correlation:\\n', correlation_matrix(Qdd))\n",
    "        \n",
    "        v = Q @ A.transpose() @ We @ (f - B@dd)    \n",
    "        print('Residuals:', v.transpose())\n",
    "        Qvv = Q @ A.transpose() @ (We-We@B@Qdd@B.transpose()@We) @ A @ Q\n",
    "        print('Covariance:\\n',Qvv)\n",
    "        lhat = l + v\n",
    "        print('Adjusted obs:', lhat.transpose())\n",
    "        Qll = Q - Qvv\n",
    "        print('Covariance:\\n', Qll)\n",
    "        \n",
    "    return d \n",
    "    \n",
    "    \n",
    "    "
   ]
  },
  {
   "cell_type": "markdown",
   "id": "bb753c6b",
   "metadata": {},
   "source": [
    "## General method applied\n",
    "Taking the line fit example from before, and letting the x's also be uncertain,\n",
    "* $n=8$\n",
    "* $n_0=6$: if we know all the $x_i$ and $m,b$ we can determine all the $y_i$\n",
    "* $r=2$\n",
    "* $u=2$: $m$ and $b$\n",
    "* $c=4$: line equation applied to each point\n",
    "Let's be naive and let $m_0=0$, $b_0=1.5$"
   ]
  },
  {
   "cell_type": "code",
   "execution_count": 8,
   "id": "d4757fc7",
   "metadata": {},
   "outputs": [
    {
     "name": "stdout",
     "output_type": "stream",
     "text": [
      "Parameter corrections: [[ 1.52468260e-16 -3.23995053e-16]]\n",
      "Covariance:\n",
      " [[ 0.0021458 -0.0053645]\n",
      " [-0.0053645  0.0160935]]\n",
      "Correlation:\n",
      " [[ 0.04632278 -0.91287093]\n",
      " [-0.91287093  0.12686016]]\n",
      "Residuals: [[ 0.02013235 -0.07456427 -0.0226489   0.0838848  -0.01509926  0.0559232\n",
      "   0.01761581 -0.06524373]]\n",
      "Covariance:\n",
      " [[ 0.10533591 -0.39013302  0.15953489 -0.59086995  0.21441332 -0.79412342\n",
      "   0.26929176 -0.99737689]\n",
      " [-0.39013302  1.4449371  -0.59086995  2.1884072  -0.79412342  2.94119784\n",
      "  -0.99737689  3.69398848]\n",
      " [ 0.15953489 -0.59086995  0.21215917 -0.78577471  0.26342452 -0.97564638\n",
      "   0.31536934 -1.1680346 ]\n",
      " [-0.59086995  2.1884072  -0.78577471  2.91027669 -0.97564638  3.61350511\n",
      "  -1.1680346   4.32605406]\n",
      " [ 0.21441332 -0.79412342  0.26342452 -0.97564638  0.31311519 -1.15968589\n",
      "   0.36144692 -1.33869231]\n",
      " [-0.79412342  2.94119784 -0.97564638  3.61350511 -1.15968589  4.29513291\n",
      "  -1.33869231  4.95811965]\n",
      " [ 0.26929176 -0.99737689  0.31536934 -1.1680346   0.36144692 -1.33869231\n",
      "   0.40820397 -1.51186656]\n",
      " [-0.99737689  3.69398848 -1.1680346   4.32605406 -1.33869231  4.95811965\n",
      "  -1.51186656  5.59950577]]\n",
      "Adjusted obs: [[1.02013235 1.92543573 2.9773511  4.0838848  1.08490074 1.2559232\n",
      "  1.51761581 1.83475627]]\n",
      "Covariance:\n",
      " [[-0.09533591  0.39013302 -0.15953489  0.59086995 -0.21441332  0.79412342\n",
      "  -0.26929176  0.99737689]\n",
      " [ 0.39013302 -1.4349371   0.59086995 -2.1884072   0.79412342 -2.94119784\n",
      "   0.99737689 -3.69398848]\n",
      " [-0.15953489  0.59086995 -0.20215917  0.78577471 -0.26342452  0.97564638\n",
      "  -0.31536934  1.1680346 ]\n",
      " [ 0.59086995 -2.1884072   0.78577471 -2.90027669  0.97564638 -3.61350511\n",
      "   1.1680346  -4.32605406]\n",
      " [-0.21441332  0.79412342 -0.26342452  0.97564638 -0.30311519  1.15968589\n",
      "  -0.36144692  1.33869231]\n",
      " [ 0.79412342 -2.94119784  0.97564638 -3.61350511  1.15968589 -4.28513291\n",
      "   1.33869231 -4.95811965]\n",
      " [-0.26929176  0.99737689 -0.31536934  1.1680346  -0.36144692  1.33869231\n",
      "  -0.39820397  1.51186656]\n",
      " [ 0.99737689 -3.69398848  1.1680346  -4.32605406  1.33869231 -4.95811965\n",
      "   1.51186656 -5.58950577]]\n"
     ]
    }
   ],
   "source": [
    "m=0    # initialize to a horizontal line\n",
    "b=1.5  # through kind of a middling height\n",
    "d = np.array([m,b]).reshape((2,1))\n",
    "l = np.array([1,2,3,4, 1.1,1.2,1.5,1.9]).reshape((8,1))\n",
    "B=np.array([[-1,-1], [-2,-1], [-3,-1], [-4,-1]])\n",
    "\n",
    "for i in range(2):\n",
    "    A=np.array([ [-m,1,  0,0,0,0,0,0],\n",
    "                 [0,0, -m,1, 0,0,0,0],\n",
    "                 [0,0,0,0, -m,1, 0,0],\n",
    "                 [0,0,0,0,0,0,  -m,1]])\n",
    "    f=np.array([[-l[4,0] + m*l[0,0] + b],\n",
    "                [-l[5,0] + m*l[1,0] + b],\n",
    "                [-l[6,0] + m*l[2,0] + b],\n",
    "                [-l[7,0] + m*l[3,0] + b] ])\n",
    "    Q=np.eye(8)*0.1*0.1\n",
    "\n",
    "    d = general_iteration(A,B,f,l,Q,d, i)\n",
    "    m = d[0,0]\n",
    "    b = d[1,0]\n"
   ]
  },
  {
   "cell_type": "code",
   "execution_count": 9,
   "id": "b678011d",
   "metadata": {},
   "outputs": [
    {
     "data": {
      "text/plain": [
       "array([[0.27],\n",
       "       [0.75]])"
      ]
     },
     "execution_count": 9,
     "metadata": {},
     "output_type": "execute_result"
    }
   ],
   "source": [
    "d # the final solution for m,b, same as before"
   ]
  },
  {
   "cell_type": "markdown",
   "id": "dd08a811",
   "metadata": {},
   "source": [
    "## HW4 \n",
    "\n",
    "Use both methods to solve for the angles of a triangle given observed measurements of 70, 76, 35 deg, sigma 0.5."
   ]
  },
  {
   "cell_type": "markdown",
   "id": "38642b03",
   "metadata": {},
   "source": [
    "### Indirect Observations\n",
    "\n",
    "* $n=3$ angles measured\n",
    "* $n_0=2$, any two true angles determines that the third is 180-\n",
    "* $r=1$\n",
    "* $u=2$, solve for angles 1 and 2\n",
    "* $c=3$: each equation is simply $\\hat{l}_i=\\alpha_i$, except the third one is 180-\n",
    "\n",
    "$$\\begin{align}\n",
    "v_1 + a_1 & = -l_1 \\\\\n",
    "v_2 + a_2 & = -l_2 \\\\\n",
    "v_3 - a_1 - a_2 & = -l_3 + 180\n",
    "\\end{align}$$"
   ]
  },
  {
   "cell_type": "code",
   "execution_count": 10,
   "id": "59b89170",
   "metadata": {},
   "outputs": [
    {
     "name": "stdout",
     "output_type": "stream",
     "text": [
      "Problem shape:\n",
      "  n: 3\n",
      " n0: 2\n",
      "  r: 1\n",
      "  u: 2\n",
      "  c: 3\n",
      "Problem:\n",
      "B:\n",
      " [[ 1  0]\n",
      " [ 0  1]\n",
      " [-1 -1]]\n",
      "f: [[-70 -76 145]]\n",
      "Q:\n",
      " [[0.25 0.   0.  ]\n",
      " [0.   0.25 0.  ]\n",
      " [0.   0.   0.25]]\n",
      "\n",
      "Normal Equations:\n",
      "Weight:\n",
      " [[4. 0. 0.]\n",
      " [0. 4. 0.]\n",
      " [0. 0. 4.]]\n",
      "N:\n",
      " [[8. 4.]\n",
      " [4. 8.]]\n",
      "t: [[-860. -884.]]\n",
      "\n",
      "Solution\n",
      "Parameters: [[-69.66666667 -75.66666667]]\n",
      "Parameter covariance:\n",
      " [[ 0.16666667 -0.08333333]\n",
      " [-0.08333333  0.16666667]]\n",
      "Residuals: [[-0.33333333 -0.33333333 -0.33333333]]\n",
      "Residual covariance:\n",
      " [[0.08333333 0.08333333 0.08333333]\n",
      " [0.08333333 0.08333333 0.08333333]\n",
      " [0.08333333 0.08333333 0.08333333]]\n",
      "Original observations: [[70 76 35]]\n",
      "Adjusted observations: [[69.66666667 75.66666667 34.66666667]]\n",
      "Covariance:\n",
      " [[ 0.16666667 -0.08333333 -0.08333333]\n",
      " [-0.08333333  0.16666667 -0.08333333]\n",
      " [-0.08333333 -0.08333333  0.16666667]]\n"
     ]
    }
   ],
   "source": [
    "l = np.array([70,76,35]).reshape( (3,1) )\n",
    "B=np.array([[1,0],[0,1],[-1,-1]])\n",
    "f = -l\n",
    "f[2,0] += 180\n",
    "Q = np.eye(3)*0.5*0.5\n",
    "print_indirect_observations(B,f,l,Q)"
   ]
  },
  {
   "cell_type": "markdown",
   "id": "89f405c1",
   "metadata": {},
   "source": [
    "### Observations only\n",
    "\n",
    "As before, $n=3, n_0=2, r=1$, but with $u=0$, $c=r+u=1$. The one equation is that the sum of the angles is 180.\n",
    "\n",
    "$$\\hat{l}_1 + \\hat{l}_2 + \\hat{l}_3 = 180$$\n",
    "$$v_1 + v_2 + v_3 = 180 - l_1 - l_2 - l_3$$\n",
    "\n"
   ]
  },
  {
   "cell_type": "code",
   "execution_count": 11,
   "id": "7fe26c2c",
   "metadata": {},
   "outputs": [
    {
     "name": "stdout",
     "output_type": "stream",
     "text": [
      "Problem shape:\n",
      "  n: 3\n",
      " n0: 2\n",
      "  r: 1\n",
      "  u: 0\n",
      "  c: 1\n",
      "Problem:\n",
      "A:\n",
      " [[1 1 1]]\n",
      "f: [[-1]]\n",
      "Q:\n",
      " [[0.25 0.   0.  ]\n",
      " [0.   0.25 0.  ]\n",
      " [0.   0.   0.25]]\n",
      "\n",
      "Solution:\n",
      "Equiv cov:\n",
      " [[0.75]]\n",
      "Equiv wgt:\n",
      " [[1.33333333]]\n",
      "Residuals: [[-0.33333333 -0.33333333 -0.33333333]]\n",
      "Covariance:\n",
      " [[0.08333333 0.08333333 0.08333333]\n",
      " [0.08333333 0.08333333 0.08333333]\n",
      " [0.08333333 0.08333333 0.08333333]]\n",
      "Adjusted obs: [[69.66666667 75.66666667 34.66666667]]\n",
      "Covariance:\n",
      " [[ 0.16666667 -0.08333333 -0.08333333]\n",
      " [-0.08333333  0.16666667 -0.08333333]\n",
      " [-0.08333333 -0.08333333  0.16666667]]\n"
     ]
    }
   ],
   "source": [
    "B = np.array([[1,1,1]])\n",
    "f = np.array([[180 - np.sum(l)]])\n",
    "print_observations_only(B,f,l,Q)"
   ]
  },
  {
   "cell_type": "markdown",
   "id": "a0d975ac",
   "metadata": {},
   "source": [
    "## HW5\n",
    "\n",
    "Iterate the General method to solve the nonlinear problem of fitting a parabola, with these 4 points:"
   ]
  },
  {
   "cell_type": "code",
   "execution_count": 12,
   "id": "3ebb435c",
   "metadata": {},
   "outputs": [],
   "source": [
    "l=np.array([2.5054,3.5183,4.4774,5.5086, \n",
    "            7.5032,3.4869,3.4957,7.5034]).reshape((8,1))\n",
    "x = l[0:4,0]\n",
    "y = l[4:8,0]\n",
    "Q = np.eye(8)*0.01*0.01"
   ]
  },
  {
   "cell_type": "code",
   "execution_count": 13,
   "id": "76b8d68e",
   "metadata": {},
   "outputs": [
    {
     "data": {
      "text/plain": [
       "<matplotlib.collections.PathCollection at 0x7f2c9b77f9a0>"
      ]
     },
     "execution_count": 13,
     "metadata": {},
     "output_type": "execute_result"
    },
    {
     "data": {
      "image/png": "[encoded data removed]",
      "text/plain": [
       "<Figure size 640x480 with 1 Axes>"
      ]
     },
     "metadata": {},
     "output_type": "display_data"
    }
   ],
   "source": [
    "plt.scatter(x,y)"
   ]
  },
  {
   "cell_type": "markdown",
   "id": "63da5f4f",
   "metadata": {},
   "source": [
    "* $n=8$ uncertain x and y observations\n",
    "* $u=3$ unknown model parameters \n",
    "* $n_0=7$ Out of those 11, if we know x's and coefficients we can determine y's\n",
    "* $r=1$\n",
    "* $c=r+u=4$ equations, one per point\n",
    "\n",
    "$$F(l_i) = p_0 + p_1 x_i + p_2 x_i^2 - y_i = 0$$"
   ]
  },
  {
   "cell_type": "code",
   "execution_count": 14,
   "id": "fec840d2",
   "metadata": {},
   "outputs": [],
   "source": [
    "# this is fixed through all iterations\n",
    "# as well as being useful for indirect observations initial estimate\n",
    "B = np.zeros((4,3))\n",
    "for i in range(4):\n",
    "    B[i,0] = 1\n",
    "    B[i,1] = x[i]\n",
    "    B[i,2] = x[i]*x[i]\n"
   ]
  },
  {
   "cell_type": "code",
   "execution_count": 15,
   "id": "30d7d839",
   "metadata": {},
   "outputs": [
    {
     "name": "stdout",
     "output_type": "stream",
     "text": [
      "Problem shape:\n",
      "  n: 4\n",
      " n0: 3\n",
      "  r: 1\n",
      "  u: 3\n",
      "  c: 4\n",
      "Problem:\n",
      "B:\n",
      " [[ 1.          2.5054      6.27702916]\n",
      " [ 1.          3.5183     12.37843489]\n",
      " [ 1.          4.4774     20.04711076]\n",
      " [ 1.          5.5086     30.34467396]]\n",
      "f: [7.5032 3.4869 3.4957 7.5034]\n",
      "Q:\n",
      " [[1. 0. 0. 0.]\n",
      " [0. 1. 0. 0.]\n",
      " [0. 0. 1. 0.]\n",
      " [0. 0. 0. 1.]]\n",
      "\n",
      "Normal Equations:\n",
      "Weight:\n",
      " [[1. 0. 0. 0.]\n",
      " [0. 1. 0. 0.]\n",
      " [0. 0. 1. 0.]\n",
      " [0. 0. 0. 1.]]\n",
      "N:\n",
      " [[   4.           16.0097       69.04724877]\n",
      " [  16.0097       69.04724877  316.19312102]\n",
      " [  69.04724877  316.19312102 1515.31263296]]\n",
      "t: [ 21.9892      88.05135397 388.02708149]\n",
      "\n",
      "Solution\n",
      "Parameters: [ 34.8315631  -15.87447168   1.98137477]\n",
      "Parameter covariance:\n",
      " [[ 57.05837928 -29.7856344    3.61528603]\n",
      " [-29.7856344   15.8745751   -1.95525021]\n",
      " [  3.61528603  -1.95525021   0.2439174 ]]\n",
      "Residuals: [ 0.00639102 -0.01982801  0.01965687 -0.00621988]\n",
      "Residual covariance:\n",
      " [[ 0.04754554 -0.14750901  0.14623585 -0.04627238]\n",
      " [-0.14750901  0.45764348 -0.45369353  0.14355905]\n",
      " [ 0.14623585 -0.45369353  0.44977766 -0.14231998]\n",
      " [-0.04627238  0.14355905 -0.14231998  0.04503331]]\n"
     ]
    }
   ],
   "source": [
    "print_indirect_observations(B,y)"
   ]
  },
  {
   "cell_type": "markdown",
   "id": "4bd19a32",
   "metadata": {},
   "source": [
    "Initialize the coefficients then to $p_0=36$, $p_1=-16$, $p_2=2$"
   ]
  },
  {
   "cell_type": "code",
   "execution_count": 16,
   "id": "aff75a13",
   "metadata": {},
   "outputs": [],
   "source": [
    "d = np.array([34.8315631,  -15.87447168 ,  1.98137477]).reshape((3,1))\n",
    "f = -y\n"
   ]
  },
  {
   "cell_type": "markdown",
   "id": "1f60d69c",
   "metadata": {},
   "source": [
    "Residuals are already pretty small, the parabola fit is perfect to within screen pixels:"
   ]
  },
  {
   "cell_type": "code",
   "execution_count": 17,
   "id": "689b13ca",
   "metadata": {},
   "outputs": [
    {
     "data": {
      "text/plain": [
       "<matplotlib.collections.PathCollection at 0x7f2c996a75e0>"
      ]
     },
     "execution_count": 17,
     "metadata": {},
     "output_type": "execute_result"
    },
    {
     "data": {
      "image/png": "[encoded data removed]",
      "text/plain": [
       "<Figure size 640x480 with 1 Axes>"
      ]
     },
     "metadata": {},
     "output_type": "display_data"
    }
   ],
   "source": [
    "xs = np.arange(2,6,0.1)\n",
    "ys = d[0,0] + d[1,0]*xs + d[2,0]*xs*xs\n",
    "plt.plot(xs,ys)\n",
    "plt.scatter(x,y)"
   ]
  },
  {
   "cell_type": "markdown",
   "id": "e3c39a0e",
   "metadata": {},
   "source": [
    "Round the coefficients to give the solution something to do"
   ]
  },
  {
   "cell_type": "code",
   "execution_count": 18,
   "id": "32c5c93a",
   "metadata": {},
   "outputs": [
    {
     "data": {
      "text/plain": [
       "<matplotlib.collections.PathCollection at 0x7f2c99558a30>"
      ]
     },
     "execution_count": 18,
     "metadata": {},
     "output_type": "execute_result"
    },
    {
     "data": {
      "image/png": "[encoded data removed]",
      "text/plain": [
       "<Figure size 640x480 with 1 Axes>"
      ]
     },
     "metadata": {},
     "output_type": "display_data"
    }
   ],
   "source": [
    "d0 = np.array([[36.0,-16.0,2.0]]).reshape((3,1))\n",
    "d = d0.copy()\n",
    "f = -y\n",
    "\n",
    "plt.plot(xs, d[0,0] + d[1,0]*xs + d[2,0]*xs*xs)\n",
    "plt.scatter(x,y)"
   ]
  },
  {
   "cell_type": "code",
   "execution_count": 19,
   "id": "26137153",
   "metadata": {},
   "outputs": [
    {
     "name": "stdout",
     "output_type": "stream",
     "text": [
      "Parameter corrections: [[ 2.49143575e-14 -1.35631644e-14  1.90722275e-15]]\n",
      "Covariance:\n",
      " [[ 1.11885483 -0.62463009  0.08001508]\n",
      " [-0.62463009  0.35423594 -0.04594956]\n",
      " [ 0.08001508 -0.04594956  0.0060416 ]]\n",
      "Correlation:\n",
      " [[ 1.05775934 -0.99217829  0.97321532]\n",
      " [-0.99217829  0.59517724 -0.99325104]\n",
      " [ 0.97321532 -0.99325104  0.07772774]]\n",
      "Residuals: [[-2.45665794e-04 -2.46873054e-05  1.07030910e-03  7.65918257e-05\n",
      "  -1.35032262e-03 -7.59307555e-05  5.25679317e-04  2.40262352e-05]]\n",
      "Covariance:\n",
      " [[0.15982874 0.01606142 0.19985757 0.0143019  0.23196708 0.01304387\n",
      "  0.26358844 0.01204734]\n",
      " [0.01606142 0.00161403 0.02008397 0.00143722 0.0233107  0.0013108\n",
      "  0.02648838 0.00121065]\n",
      " [0.19985757 0.02008397 0.24881315 0.01780519 0.28637944 0.01610356\n",
      "  0.32263664 0.01474615]\n",
      " [0.0143019  0.00143722 0.01780519 0.00127415 0.02049345 0.00115238\n",
      "  0.02308803 0.00105524]\n",
      " [0.23196708 0.0233107  0.28637944 0.02049345 0.32669976 0.01837084\n",
      "  0.36426703 0.01664887]\n",
      " [0.01304387 0.0013108  0.01610356 0.00115238 0.01837084 0.00103302\n",
      "  0.02048331 0.00093619]\n",
      " [0.26358844 0.02648838 0.32263664 0.02308803 0.36426703 0.02048331\n",
      "  0.4020772  0.01837699]\n",
      " [0.01204734 0.00121065 0.01474615 0.00105524 0.01664887 0.00093619\n",
      "  0.01837699 0.00083992]]\n",
      "Adjusted obs: [[2.50515433 3.51827531 4.47847031 5.50867659 7.50184968 3.48682407\n",
      "  3.49622568 7.50342403]]\n",
      "Covariance:\n",
      " [[-0.15972874 -0.01606142 -0.19985757 -0.0143019  -0.23196708 -0.01304387\n",
      "  -0.26358844 -0.01204734]\n",
      " [-0.01606142 -0.00151403 -0.02008397 -0.00143722 -0.0233107  -0.0013108\n",
      "  -0.02648838 -0.00121065]\n",
      " [-0.19985757 -0.02008397 -0.24871315 -0.01780519 -0.28637944 -0.01610356\n",
      "  -0.32263664 -0.01474615]\n",
      " [-0.0143019  -0.00143722 -0.01780519 -0.00117415 -0.02049345 -0.00115238\n",
      "  -0.02308803 -0.00105524]\n",
      " [-0.23196708 -0.0233107  -0.28637944 -0.02049345 -0.32659976 -0.01837084\n",
      "  -0.36426703 -0.01664887]\n",
      " [-0.01304387 -0.0013108  -0.01610356 -0.00115238 -0.01837084 -0.00093302\n",
      "  -0.02048331 -0.00093619]\n",
      " [-0.26358844 -0.02648838 -0.32263664 -0.02308803 -0.36426703 -0.02048331\n",
      "  -0.4019772  -0.01837699]\n",
      " [-0.01204734 -0.00121065 -0.01474615 -0.00105524 -0.01664887 -0.00093619\n",
      "  -0.01837699 -0.00073992]]\n"
     ]
    },
    {
     "data": {
      "text/plain": [
       "array([[ 34.89719773],\n",
       "       [-15.91051627],\n",
       "       [  1.98592998]])"
      ]
     },
     "execution_count": 19,
     "metadata": {},
     "output_type": "execute_result"
    }
   ],
   "source": [
    "A = np.zeros((4,8))\n",
    "f = np.zeros((4,1))\n",
    "for iter in range(5):\n",
    "    for i in range(4):\n",
    "        A[i,i*2] = -2*d[2,0]*x[i]\n",
    "        A[i,i*2+1] = -1\n",
    "        f[i,0] = y[i] - d[2,0]*x[i]*x[i] - d[1,0]*x[i] - d[0,0]\n",
    "           \n",
    "    d = general_iteration(A,B,f,l,Q,d)\n",
    "\n",
    "general_iteration(A,B,f,l,Q,d,1)"
   ]
  },
  {
   "cell_type": "code",
   "execution_count": 20,
   "id": "c540f40b",
   "metadata": {},
   "outputs": [
    {
     "data": {
      "text/plain": [
       "array([[-1.10280227],\n",
       "       [ 0.08948373],\n",
       "       [-0.01407002]])"
      ]
     },
     "execution_count": 20,
     "metadata": {},
     "output_type": "execute_result"
    }
   ],
   "source": [
    "d-d0"
   ]
  },
  {
   "cell_type": "code",
   "execution_count": 21,
   "id": "a9b2ab02",
   "metadata": {},
   "outputs": [],
   "source": [
    "# remember these answers \n",
    "hw5 = d.copy()"
   ]
  },
  {
   "cell_type": "code",
   "execution_count": 22,
   "id": "1e86aa0c",
   "metadata": {},
   "outputs": [
    {
     "data": {
      "text/plain": [
       "<matplotlib.collections.PathCollection at 0x7f2c993d3010>"
      ]
     },
     "execution_count": 22,
     "metadata": {},
     "output_type": "execute_result"
    },
    {
     "data": {
      "image/png": "[encoded data removed]",
      "text/plain": [
       "<Figure size 640x480 with 1 Axes>"
      ]
     },
     "metadata": {},
     "output_type": "display_data"
    }
   ],
   "source": [
    "plt.plot(xs, d[0,0] + d[1,0]*xs + d[2,0]*xs*xs)\n",
    "plt.scatter(x,y)"
   ]
  },
  {
   "cell_type": "markdown",
   "id": "37633c8e",
   "metadata": {},
   "source": [
    "## HW 6\n",
    "\n",
    "Continuation of the parabola problem from HW5.\n",
    "\n",
    "Note the general iteration function was augmented to print a Correlation form of the parameter Covariance, and the correlations were very near $\\pm 1$\n",
    "\n",
    "Coefficient form $y=c_0 + c_1x + c_2x^2$ must be solved into 'vertex form $y=a(x-h)^2+k$.\n",
    "\n",
    "The center $x=h$ is where the derivative is 0: \n",
    "$$c_1 + 2c_2h=0\\rightarrow h=\\frac{-c_1}{2c_2}$$\n",
    "\n",
    "The minimum $y=k$ is also where the derivative is 0:\n",
    "$$k=c_0 + c_1h + c_2h^2$$ \n",
    "\n",
    "And since $y=a(x-h)^2+k$ multiplies out to $y=ax^2\\ldots$, we know that $$a=c_2$$\n",
    "\n",
    "\n"
   ]
  },
  {
   "cell_type": "code",
   "execution_count": 23,
   "id": "74a2f0f5",
   "metadata": {},
   "outputs": [
    {
     "data": {
      "text/plain": [
       "<matplotlib.collections.PathCollection at 0x7f2c9947d120>"
      ]
     },
     "execution_count": 23,
     "metadata": {},
     "output_type": "execute_result"
    },
    {
     "data": {
      "image/png": "[encoded data removed]",
      "text/plain": [
       "<Figure size 640x480 with 1 Axes>"
      ]
     },
     "metadata": {},
     "output_type": "display_data"
    }
   ],
   "source": [
    "# convert from the HW5 answer, should look perfect\n",
    "h = -d[1] / d[2] / 2\n",
    "k =  d[0] + d[1]*h + d[2]*h*h\n",
    "a =  d[2]\n",
    "plt.plot(xs, a*(xs-h)*(xs-h) + k)\n",
    "plt.scatter(x,y)"
   ]
  },
  {
   "cell_type": "code",
   "execution_count": 24,
   "id": "e790ecc3",
   "metadata": {},
   "outputs": [
    {
     "data": {
      "text/plain": [
       "array([[2.],\n",
       "       [4.],\n",
       "       [3.]])"
      ]
     },
     "execution_count": 24,
     "metadata": {},
     "output_type": "execute_result"
    }
   ],
   "source": [
    "# Again, start from rounded values to give the iteration something to do\n",
    "ahk0 = np.array([np.round(a), np.round(h), np.round(k)])\n",
    "ahk = ahk0.copy()\n",
    "ahk"
   ]
  },
  {
   "cell_type": "code",
   "execution_count": 25,
   "id": "f3981edd",
   "metadata": {},
   "outputs": [
    {
     "data": {
      "text/plain": [
       "<matplotlib.collections.PathCollection at 0x7f2c993117e0>"
      ]
     },
     "execution_count": 25,
     "metadata": {},
     "output_type": "execute_result"
    },
    {
     "data": {
      "image/png": "[encoded data removed]",
      "text/plain": [
       "<Figure size 640x480 with 1 Axes>"
      ]
     },
     "metadata": {},
     "output_type": "display_data"
    }
   ],
   "source": [
    "# After rounding, starting values should be off\n",
    "plt.plot(xs, ahk[0]*(xs-ahk[1])*(xs-ahk[1]) + ahk[2])\n",
    "plt.scatter(x,y)"
   ]
  },
  {
   "cell_type": "markdown",
   "id": "08f085c1",
   "metadata": {},
   "source": [
    "Now we need to reformulate the General Least Squares method using the Vertex Form as the condition equations. The critical values have not changed: $n=8; u=3; n_0=7; r=1; c=4$:\n",
    "\n",
    "\\begin{align}\n",
    "F(l_i) & = a(x-h)^2 + k - y_i                         \\\\\n",
    "       & = ax^2 - 2ahx + ah^2 + k - y_i               \\\\\n",
    "       & = a(\\hat{x}+v_x)^2 - 2ah(\\hat{x}+v_x) + ah^2 + k - y_i \\\\\n",
    "       & = 0\n",
    "\\end{align}\n",
    "\n",
    "Let the parameter vector be $[a,h,k]$"
   ]
  },
  {
   "cell_type": "code",
   "execution_count": 26,
   "id": "52ded358",
   "metadata": {},
   "outputs": [
    {
     "data": {
      "text/plain": [
       "array([[ 2.23382916,  5.9784    ,  1.        ],\n",
       "       [ 0.23203489,  1.9268    ,  1.        ],\n",
       "       [ 0.22791076, -1.9096    ,  1.        ],\n",
       "       [ 2.27587396, -6.0344    ,  1.        ]])"
      ]
     },
     "execution_count": 26,
     "metadata": {},
     "output_type": "execute_result"
    }
   ],
   "source": [
    "# fetch out current parameters as constants\n",
    "aa = ahk[0,0]\n",
    "hh = ahk[1,0]\n",
    "kk = ahk[2,0]\n",
    "B = np.zeros((4,3))\n",
    "for i in range(4):\n",
    "    B[i,0] = (x[i]-hh)**2         # dF/da\n",
    "    B[i,1] = 2*aa*(x[i]-hh)*(-1)  # dF/dh\n",
    "    B[i,2] = 1                    # dF/dk\n",
    "    \n",
    "B"
   ]
  },
  {
   "cell_type": "code",
   "execution_count": 27,
   "id": "1d49416d",
   "metadata": {},
   "outputs": [],
   "source": [
    "f = ( y - a*(x-h)+k ).reshape( (4,1) )"
   ]
  },
  {
   "cell_type": "code",
   "execution_count": 28,
   "id": "42f90f2e",
   "metadata": {},
   "outputs": [
    {
     "name": "stdout",
     "output_type": "stream",
     "text": [
      "Parameter corrections: [[-3.28939506e-16  2.00196779e-16  7.61491504e-17]]\n",
      "Covariance:\n",
      " [[ 5.00098065e-04  3.36694446e-07 -2.28817760e-04]\n",
      " [ 3.36694446e-07  2.79470011e-05  2.21086094e-07]\n",
      " [-2.28817760e-04  2.21086094e-07  3.09289502e-04]]\n",
      "Correlation:\n",
      " [[ 0.02236287  0.00284801 -0.58180782]\n",
      " [ 0.00284801  0.00528649  0.002378  ]\n",
      " [-0.58180782  0.002378    0.01758663]]\n",
      "Residuals: [[-0.0050168  -0.00084606  0.00502957  0.0026249   0.00490312 -0.00260224\n",
      "  -0.00491589  0.00082341]]\n",
      "Covariance:\n",
      " [[ 0.0586289   0.00988754  0.08808358  0.04597015 -0.09929098  0.05269681\n",
      "  -0.07168236  0.01200674]\n",
      " [ 0.00988754  0.00166749  0.01485496  0.00775269 -0.01674504  0.00888711\n",
      "  -0.01208895  0.00202489]\n",
      " [ 0.08808358  0.01485496  0.03707024  0.01934668 -0.04556243  0.0241814\n",
      "  -0.09973904  0.01670621]\n",
      " [ 0.04597015  0.00775269  0.01934668  0.01009688 -0.02377869  0.01262009\n",
      "  -0.05205305  0.00871885]\n",
      " [-0.09929098 -0.01674504 -0.04556243 -0.02377869  0.0410145  -0.02176767\n",
      "   0.09457568 -0.01584135]\n",
      " [ 0.05269681  0.00888711  0.0241814   0.01262009 -0.02176767  0.01155278\n",
      "  -0.05019426  0.0084075 ]\n",
      " [-0.07168236 -0.01208895 -0.09973904 -0.05205305  0.09457568 -0.05019426\n",
      "   0.06458308 -0.01081762]\n",
      " [ 0.01200674  0.00202489  0.01670621  0.00871885 -0.01584135  0.0084075\n",
      "  -0.01081762  0.00181194]]\n",
      "Adjusted obs: [[2.5003832  3.51745394 4.48242957 5.5112249  7.50810312 3.48429776\n",
      "  3.49078411 7.50422341]]\n",
      "Covariance:\n",
      " [[-0.0585289  -0.00988754 -0.08808358 -0.04597015  0.09929098 -0.05269681\n",
      "   0.07168236 -0.01200674]\n",
      " [-0.00988754 -0.00156749 -0.01485496 -0.00775269  0.01674504 -0.00888711\n",
      "   0.01208895 -0.00202489]\n",
      " [-0.08808358 -0.01485496 -0.03697024 -0.01934668  0.04556243 -0.0241814\n",
      "   0.09973904 -0.01670621]\n",
      " [-0.04597015 -0.00775269 -0.01934668 -0.00999688  0.02377869 -0.01262009\n",
      "   0.05205305 -0.00871885]\n",
      " [ 0.09929098  0.01674504  0.04556243  0.02377869 -0.0409145   0.02176767\n",
      "  -0.09457568  0.01584135]\n",
      " [-0.05269681 -0.00888711 -0.0241814  -0.01262009  0.02176767 -0.01145278\n",
      "   0.05019426 -0.0084075 ]\n",
      " [ 0.07168236  0.01208895  0.09973904  0.05205305 -0.09457568  0.05019426\n",
      "  -0.06448308  0.01081762]\n",
      " [-0.01200674 -0.00202489 -0.01670621 -0.00871885  0.01584135 -0.0084075\n",
      "   0.01081762 -0.00171194]]\n"
     ]
    },
    {
     "data": {
      "text/plain": [
       "array([[1.98117871],\n",
       "       [4.00187672],\n",
       "       [3.03587047]])"
      ]
     },
     "execution_count": 28,
     "metadata": {},
     "output_type": "execute_result"
    }
   ],
   "source": [
    "A = np.zeros((4,8))\n",
    "f = np.zeros((4,1))\n",
    "for iter in range(10):\n",
    "    # fetch out current parameters as constants\n",
    "    aa = ahk[0,0]\n",
    "    hh = ahk[1,0]\n",
    "    kk = ahk[2,0]\n",
    "    for i in range(4):\n",
    "        A[i,i*2] = 2*aa*(x[i]-hh)\n",
    "        A[i,i*2+1] = -1                         \n",
    "        \n",
    "        f[i,0] = y[i] - aa*(x[i]-hh)*(x[i]-hh) - kk\n",
    "           \n",
    "    d = general_iteration(A,B,f,l,Q,ahk)\n",
    "\n",
    "general_iteration(A,B,f,l,Q,ahk,1)\n",
    "# Note this prints out parameter Covariance & Correlation matrices"
   ]
  },
  {
   "cell_type": "code",
   "execution_count": 29,
   "id": "c099d7ee",
   "metadata": {},
   "outputs": [
    {
     "data": {
      "text/plain": [
       "array([[-0.01882129],\n",
       "       [ 0.00187672],\n",
       "       [ 0.03587047]])"
      ]
     },
     "execution_count": 29,
     "metadata": {},
     "output_type": "execute_result"
    }
   ],
   "source": [
    "ahk - ahk0"
   ]
  },
  {
   "cell_type": "code",
   "execution_count": 30,
   "id": "c68319ed",
   "metadata": {},
   "outputs": [
    {
     "data": {
      "text/plain": [
       "<matplotlib.collections.PathCollection at 0x7f2c99399bd0>"
      ]
     },
     "execution_count": 30,
     "metadata": {},
     "output_type": "execute_result"
    },
    {
     "data": {
      "image/png": "[encoded data removed]",
      "text/plain": [
       "<Figure size 640x480 with 1 Axes>"
      ]
     },
     "metadata": {},
     "output_type": "display_data"
    }
   ],
   "source": [
    "plt.plot(xs, ahk[0]*(xs - ahk[1])*(xs - ahk[1]) + ahk[2])\n",
    "plt.scatter(x,y)"
   ]
  },
  {
   "cell_type": "markdown",
   "id": "08e1621d",
   "metadata": {},
   "source": [
    "Is this the same solution as HW5?"
   ]
  },
  {
   "cell_type": "code",
   "execution_count": 31,
   "id": "9529e519",
   "metadata": {},
   "outputs": [
    {
     "data": {
      "text/plain": [
       "array([[ 34.89719773],\n",
       "       [-15.91051627],\n",
       "       [  1.98592998]])"
      ]
     },
     "execution_count": 31,
     "metadata": {},
     "output_type": "execute_result"
    }
   ],
   "source": [
    "hw5   # c0 + c1x + c2x^2"
   ]
  },
  {
   "cell_type": "code",
   "execution_count": 32,
   "id": "5f32225a",
   "metadata": {},
   "outputs": [],
   "source": [
    "    # fetch out current parameters as constants\n",
    "    aa = ahk[0,0]\n",
    "    hh = ahk[1,0]\n",
    "    kk = ahk[2,0]"
   ]
  },
  {
   "cell_type": "code",
   "execution_count": 33,
   "id": "4643e56c",
   "metadata": {},
   "outputs": [
    {
     "data": {
      "text/plain": [
       "-0.0047512732071965935"
      ]
     },
     "execution_count": 33,
     "metadata": {},
     "output_type": "execute_result"
    }
   ],
   "source": [
    "aa - hw5[2,0]           # x^2 coefficient"
   ]
  },
  {
   "cell_type": "code",
   "execution_count": 34,
   "id": "06fb7fc7",
   "metadata": {},
   "outputs": [
    {
     "data": {
      "text/plain": [
       "0.05365036459854622"
      ]
     },
     "execution_count": 34,
     "metadata": {},
     "output_type": "execute_result"
    }
   ],
   "source": [
    "-2*aa*hh - hw5[1,0]     # x coefficient"
   ]
  },
  {
   "cell_type": "code",
   "execution_count": 35,
   "id": "10d73dc1",
   "metadata": {},
   "outputs": [
    {
     "data": {
      "text/plain": [
       "-0.13271597475045382"
      ]
     },
     "execution_count": 35,
     "metadata": {},
     "output_type": "execute_result"
    }
   ],
   "source": [
    "aa*hh*hh + kk - hw5[0,0]  # constant"
   ]
  },
  {
   "cell_type": "code",
   "execution_count": null,
   "id": "71f58d5c",
   "metadata": {},
   "outputs": [],
   "source": []
  }
 ],
 "metadata": {
  "kernelspec": {
   "display_name": "Python 3 (ipykernel)",
   "language": "python",
   "name": "python3"
  },
  "language_info": {
   "codemirror_mode": {
    "name": "ipython",
    "version": 3
   },
   "file_extension": ".py",
   "mimetype": "text/x-python",
   "name": "python",
   "nbconvert_exporter": "python",
   "pygments_lexer": "ipython3",
   "version": "3.10.12"
  }
 },
 "nbformat": 4,
 "nbformat_minor": 5
}
