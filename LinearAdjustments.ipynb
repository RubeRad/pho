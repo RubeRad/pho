{
 "cells": [
  {
   "cell_type": "markdown",
   "id": "bcc5559c",
   "metadata": {},
   "source": [
    "# Linear Adjustments"
   ]
  },
  {
   "cell_type": "markdown",
   "id": "ec343acd",
   "metadata": {},
   "source": [
    "## Critical quantities\n",
    "\n",
    "These 5 values need to be determined every time\n",
    "\n",
    "* $n$: The number of observations (they are uncertain i.e. have covariance $\\Sigma$ -- which is the point).\n",
    "* $n_0$: The number of values (observations or parameters) that need to be fixed to determine 'the model'.\n",
    "* $r$: Redundancy: $r=n-n_0$.\n",
    "* $u$: Number of unknown parameters.\n",
    "* $c$: Number of condition equations: $c=r+u$.\n",
    "\n",
    "The first 3 are determined analytically, then $u$ and $c$ flow from them."
   ]
  },
  {
   "cell_type": "markdown",
   "id": "f891fa93",
   "metadata": {},
   "source": [
    "## Method of Indirect Observations\n",
    "In this method we solve for the parameters of the model, so $u=n_0$. For instance for fitting a line, parameters are slope and intercept $m,b$, so $n_0=u=2$.\n",
    "\n",
    "Once the $c=r+u$ condition equations are written, with all uncertain observations $\\hat{l}_i$ expanded to solved observations plus residuals $l_i + v_i$, the linear system is formed/rearranged as $$v + B\\Delta=f$$\n",
    "\n",
    "Then the solution method is this series of matrix calculations:\n",
    "\n",
    "* Weight matrix $W=\\Sigma^{-1}$\n",
    "* Normal equations: $N=B'WB$ and $t=B'Wf$\n",
    "* Parameter solution: solve $N\\Delta=t \\Rightarrow \\Delta = N^{-1}t$\n",
    "* Residuals: $v=f-B\\Delta$\n",
    "* Covariance of parameters: $\\Sigma_{\\Delta\\Delta} = N^{-1}$\n",
    "* Covariance of residuals: $\\Sigma_{vv} = \\Sigma - BQ_{\\Delta\\Delta}B'$\n",
    "* Adjusted observations: $\\hat{l} = l + v$\n",
    "* Covariance of $\\hat{l}$: $\\Sigma_{\\hat{l}\\hat{l}}=\\Sigma-\\Sigma{vv}$\n",
    "\n",
    "\n"
   ]
  },
  {
   "cell_type": "code",
   "execution_count": 3,
   "id": "e1c464ef",
   "metadata": {},
   "outputs": [],
   "source": [
    "import numpy as np"
   ]
  },
  {
   "cell_type": "code",
   "execution_count": 41,
   "id": "851038bb",
   "metadata": {},
   "outputs": [],
   "source": [
    "def print_indirect_observations(B, f, l=None, Q=None):\n",
    "    c,u = B.shape\n",
    "    r = c-u\n",
    "    n0 = u      # always for indirect observations\n",
    "    n  = n0 + r # always\n",
    "    print('Problem shape:')\n",
    "    print('  n:', n)\n",
    "    print(' n0:', n0)\n",
    "    print('  r:', r)\n",
    "    print('  u:', u)\n",
    "    print('  c:', c)\n",
    "    \n",
    "    print('Problem:')\n",
    "    print('B:\\n', B)\n",
    "    print('f:', f.transpose())\n",
    "    if Q is None: Q = np.eye(n)\n",
    "    print('Q:\\n', Q)\n",
    "    \n",
    "    print('\\nNormal Equations:')\n",
    "    W = np.linalg.inv(Q)\n",
    "    print('Weight:\\n',W)\n",
    "    N = B.transpose() @ W @ B\n",
    "    t = B.transpose() @ W @ f\n",
    "    print('N:\\n', N)\n",
    "    print('t:', t.transpose())\n",
    "    \n",
    "    print('\\nSolution')\n",
    "    d = np.linalg.solve(N,t)\n",
    "    print('Parameters:', d.transpose())\n",
    "    Qdd = np.linalg.inv(N)\n",
    "    print('Parameter covariance:\\n',Qdd) \n",
    "    \n",
    "    v = f - B@d\n",
    "    print('Residuals:', v.transpose())\n",
    "    Qvv = Q - B @ Qdd @ B.transpose()\n",
    "    print('Residual covariance:\\n', Qvv)\n",
    "    \n",
    "    if l is not None:\n",
    "        lhat = l + v\n",
    "        print('Original observations:', l.transpose())\n",
    "        print('Adjusted observations:', lhat.transpose())\n",
    "        Qll = Q - Qvv\n",
    "        print('Covariance:\\n',Qll)\n",
    "    "
   ]
  },
  {
   "cell_type": "markdown",
   "id": "9ad278ff",
   "metadata": {},
   "source": [
    "Line fit example: points (1,1.1), (2,1.2), (3,1.5), (4,1.9) with $s_i=0.1$. \n",
    "\n",
    "* $n=4$: the four $y_i$\n",
    "* $n_0=2$: line parameters $m,b$\n",
    "* $r=2$\n",
    "* $u=2$, we are solving for unknowns $\\Delta=(m,b)$\n",
    "* $c=4$, the line equations $\\hat{y_i}=(y_i+v_i) = mx_i + b$\n",
    "\n",
    "Condition equations reshape to $v+B\\Delta=f$ as: $$v_i + -mx_i - b = -y_i$$"
   ]
  },
  {
   "cell_type": "code",
   "execution_count": 50,
   "id": "5415f7c9",
   "metadata": {},
   "outputs": [
    {
     "name": "stdout",
     "output_type": "stream",
     "text": [
      "Problem shape:\n",
      "  n: 4\n",
      " n0: 2\n",
      "  r: 2\n",
      "  u: 2\n",
      "  c: 4\n",
      "Problem:\n",
      "B:\n",
      " [[-1 -1]\n",
      " [-2 -1]\n",
      " [-3 -1]\n",
      " [-4 -1]]\n",
      "f: [[-1.1 -1.2 -1.5 -1.9]]\n",
      "Q:\n",
      " [[0.01 0.   0.   0.  ]\n",
      " [0.   0.01 0.   0.  ]\n",
      " [0.   0.   0.01 0.  ]\n",
      " [0.   0.   0.   0.01]]\n",
      "\n",
      "Normal Equations:\n",
      "Weight:\n",
      " [[100.   0.   0.   0.]\n",
      " [  0. 100.   0.   0.]\n",
      " [  0.   0. 100.   0.]\n",
      " [  0.   0.   0. 100.]]\n",
      "N:\n",
      " [[3000. 1000.]\n",
      " [1000.  400.]]\n",
      "t: [[1560.  570.]]\n",
      "\n",
      "Solution\n",
      "Parameters: [[0.27 0.75]]\n",
      "Parameter covariance:\n",
      " [[ 0.002 -0.005]\n",
      " [-0.005  0.015]]\n",
      "Residuals: [[-0.08  0.09  0.06 -0.07]]\n",
      "Residual covariance:\n",
      " [[ 0.003 -0.004 -0.001  0.002]\n",
      " [-0.004  0.007 -0.002 -0.001]\n",
      " [-0.001 -0.002  0.007 -0.004]\n",
      " [ 0.002 -0.001 -0.004  0.003]]\n",
      "Original observations: [[1.1 1.2 1.5 1.9]]\n",
      "Adjusted observations: [[1.02 1.29 1.56 1.83]]\n",
      "Covariance:\n",
      " [[ 0.007  0.004  0.001 -0.002]\n",
      " [ 0.004  0.003  0.002  0.001]\n",
      " [ 0.001  0.002  0.003  0.004]\n",
      " [-0.002  0.001  0.004  0.007]]\n"
     ]
    }
   ],
   "source": [
    "l = np.array([1.1, 1.2, 1.5, 1.9]).reshape( (4,1) )\n",
    "B = np.array([ [-1,-1], [-2,-1], [-3,-1], [-4,-1] ])\n",
    "f = -l\n",
    "Q = np.eye(4) * 0.1*0.1\n",
    "print_indirect_observations(B, f, -f, Q)"
   ]
  },
  {
   "cell_type": "markdown",
   "id": "e93cabeb",
   "metadata": {},
   "source": [
    "## Method of Observations Only\n",
    "In this method, the parameters are not solved for, so $u=0$ and thus $c=r$. All that is solved for is residuals (adjustments to the observations). The condition equations are shaped as $$Av=f$$\n",
    "\n",
    "And then the solution method is:\n",
    "* Equivalent covariance matrix: $\\Sigma_e = A\\Sigma A'$\n",
    "* Equivalent weight matrix: $W_e = \\Sigma_e^-1$\n",
    "* Residuals: $v = \\Sigma A'W_e f$\n",
    "* Covariance of residuals: $\\Sigma_{vv} = \\Sigma A' W_e A \\Sigma$\n",
    "* Adjusted observations: $\\hat{l} = l + v$\n",
    "* Covariance of $\\hat{l}$: $\\Sigma_{\\hat{l}\\hat{l}}=\\Sigma-\\Sigma{vv}$\n"
   ]
  },
  {
   "cell_type": "code",
   "execution_count": 53,
   "id": "e88c3c97",
   "metadata": {},
   "outputs": [],
   "source": [
    "def print_observations_only(A,f,l=None,Q=None):\n",
    "    c,n = A.shape\n",
    "    u = 0     # always for observations only\n",
    "    r = c-u   # always c=r+u\n",
    "    n0 = n-r  # always r=n-n0\n",
    "    print('Problem shape:')\n",
    "    print('  n:', n)\n",
    "    print(' n0:', n0)\n",
    "    print('  r:', r)\n",
    "    print('  u:', u)\n",
    "    print('  c:', c)\n",
    "    \n",
    "    print('Problem:')\n",
    "    print('A:\\n', A)\n",
    "    print('f:', f.transpose())\n",
    "    if Q is None: Q = np.eye(n)\n",
    "    print('Q:\\n', Q)\n",
    "    \n",
    "    print('\\nSolution:')\n",
    "    Qe = A @ Q @ A.transpose()\n",
    "    print('Equiv cov:\\n', Qe)\n",
    "    We = np.linalg.inv(Qe)\n",
    "    print('Equiv wgt:\\n', We)\n",
    "    v = Q @ A.transpose() @ We @ f\n",
    "    print('Residuals:', v.transpose())\n",
    "    Qvv = Q @ A.transpose() @ We @ A @ Q\n",
    "    print('Covariance:\\n', Qvv)\n",
    "    if l is not None:\n",
    "        lhat = l + v\n",
    "        print('Adjusted obs:', lhat.transpose())\n",
    "        Qll = Q - Qvv\n",
    "        print('Covariance:\\n', Qll)"
   ]
  },
  {
   "cell_type": "markdown",
   "id": "46d802bb",
   "metadata": {},
   "source": [
    "For the class Line fit example with observations only: points (1,1.1), (2,1.2), (3,1.5), (4,1.9) with $s_i=0.1$. \n",
    "\n",
    "* $n=4$: the four $y_i$\n",
    "* $n_0=2$: \n",
    "* $r=2$\n",
    "* $u=0$ always for Observations Only\n",
    "* $c=r+u=2$, two equations to relate all the $y_i$ via slope conditions.\n",
    "\n",
    "$$\\frac{y_2-y_1}{2-1}=\\frac{y_3-y_1}{3-1}$$\n",
    "$$\\frac{y_2-y_1}{2-1}=\\frac{y_4-y_1}{4-1}$$ \n",
    "\n",
    "Those need to be rearranged to the form $Av=f$ "
   ]
  },
  {
   "cell_type": "markdown",
   "id": "672e354a",
   "metadata": {},
   "source": [
    "$$2\\hat{y}_2-2\\hat{y}_1=\\hat{y}_3-{y}_1\\rightarrow -(y_1+v_1) + 2(y_2+v_2) - (y_3+v_3) = 0\\rightarrow\n",
    "-v_1 + 2v_2 - v_3 = y_1 - 2y_2 + y_3$$\n",
    "$$3\\hat{y}_2-3\\hat{y}_1=\\hat{y}_4-{y}_1\\rightarrow -2(y_1+v_1) + 3(y_2+v_2) - (y_4+v_4) = 0\\rightarrow\n",
    "-2v_1 + 3v_2 - v_4 = 2y_1 - 3y_2 + y_4$$\n"
   ]
  },
  {
   "cell_type": "code",
   "execution_count": 54,
   "id": "f1abcf82",
   "metadata": {},
   "outputs": [
    {
     "name": "stdout",
     "output_type": "stream",
     "text": [
      "Problem shape:\n",
      "  n: 4\n",
      " n0: 2\n",
      "  r: 2\n",
      "  u: 0\n",
      "  c: 2\n",
      "Problem:\n",
      "A:\n",
      " [[-1  2 -1  0]\n",
      " [-2  3  0 -1]]\n",
      "f: [[0.2 0.5]]\n",
      "Q:\n",
      " [[0.01 0.   0.   0.  ]\n",
      " [0.   0.01 0.   0.  ]\n",
      " [0.   0.   0.01 0.  ]\n",
      " [0.   0.   0.   0.01]]\n",
      "\n",
      "Solution:\n",
      "Equiv cov:\n",
      " [[0.06 0.08]\n",
      " [0.08 0.14]]\n",
      "Equiv wgt:\n",
      " [[ 70. -40.]\n",
      " [-40.  30.]]\n",
      "Residuals: [[-0.08  0.09  0.06 -0.07]]\n",
      "Covariance:\n",
      " [[ 0.003 -0.004 -0.001  0.002]\n",
      " [-0.004  0.007 -0.002 -0.001]\n",
      " [-0.001 -0.002  0.007 -0.004]\n",
      " [ 0.002 -0.001 -0.004  0.003]]\n",
      "Adjusted obs: [[1.02 1.29 1.56 1.83]]\n",
      "Covariance:\n",
      " [[ 0.007  0.004  0.001 -0.002]\n",
      " [ 0.004  0.003  0.002  0.001]\n",
      " [ 0.001  0.002  0.003  0.004]\n",
      " [-0.002  0.001  0.004  0.007]]\n"
     ]
    }
   ],
   "source": [
    "A = np.array([[-1,2,-1,0],[-2,3,0,-1]])\n",
    "f = np.array([[1.1-2*1.2+1.5], [2*1.1-3*1.2+1.9]])\n",
    "print_observations_only(A,f,l,Q)"
   ]
  },
  {
   "cell_type": "markdown",
   "id": "8992ec23",
   "metadata": {},
   "source": [
    "## General method\n",
    "The General method combines both Indirect Observations and Observations only, for a full form of $$Av + B\\Delta=f$$. It also requires initial estimates of the parameters, and iteration to convergence.\n",
    "\n",
    "* Equivalent covariance matrix: $\\Sigma_e = A\\Sigma A'$\n",
    "* Equivalent weight matrix: $W_e = \\Sigma_e^-1$\n",
    "* Normal equations: $N=B'W_eB$ and $t=B'W_e f$\n",
    "* Parameter solution: $N\\Delta=t$\n",
    "* Residuals: $v=\\Sigma A'W_e(f-B\\Delta)$\n",
    "* Adjusted observations: $\\hat{l}=l+v$\n",
    "* Covariance of Parameters: $\\Sigma_{\\Delta\\Delta} = N^{-1}$\n",
    "* Covariance of Residuals: $\\Sigma_{vv} = \\Sigma A'(W_e - W_eBN^{-1}B'W_e)A\\Sigma$\n",
    "* Covariance of Adjusted Observations: $\\Sigma_{\\hat{l}\\hat{l}} = \\Sigma - \\Sigma_{vv}$\n",
    "\n"
   ]
  },
  {
   "cell_type": "code",
   "execution_count": 85,
   "id": "fb4cbfcd",
   "metadata": {},
   "outputs": [],
   "source": [
    "# For linear problems, apparently one iteration always suffices\n",
    "# For nonlinear, we iterate til convergence\n",
    "\n",
    "def general_iteration(A, B, f, l, Q, d, final=False):\n",
    "    Qe = A @ Q @ A.transpose()\n",
    "    We = np.linalg.inv(Qe)\n",
    "    N = B.transpose() @ We @ B\n",
    "    t = B.transpose() @ We @ f\n",
    "    Qdd = np.linalg.inv(N)\n",
    "    dd = Qdd @ t\n",
    "    d += dd\n",
    "    if final:\n",
    "        print('Parameter corrections:', dd.transpose())\n",
    "        print('Covariance:\\n',Qdd)\n",
    "        v = Q @ A.transpose() @ We @ (f - B@d)\n",
    "        print('Residuals:', v.transpose())\n",
    "        Qvv = Q @ A.transpose() @ (We-We@B@Qdd@B.transpose()@We) @ A @ Q\n",
    "        print('Covariance:\\n',Qvv)\n",
    "        lhat = l + v\n",
    "        print('Adjusted obs:', lhat.transpose())\n",
    "        Qll = Q - Qvv\n",
    "        print('Covariance:\\n', Qll)\n",
    "        \n",
    "    return d \n",
    "    \n",
    "    \n",
    "    "
   ]
  },
  {
   "cell_type": "markdown",
   "id": "85280116",
   "metadata": {},
   "source": [
    "## General method applied\n",
    "Taking the line fit example from before, and letting the x's also be uncertain,\n",
    "* $n=8$\n",
    "* $n_0=6$: if we know all the $x_i$ and $m,b$ we can determine all the $y_i$\n",
    "* $r=2$\n",
    "* $u=2$: $m$ and $b$\n",
    "* $c=4$: line equation applied to each point\n",
    "Let's be naive and let $m_0=0$, $b_0=1.5$"
   ]
  },
  {
   "cell_type": "code",
   "execution_count": 83,
   "id": "7f934f0a",
   "metadata": {},
   "outputs": [
    {
     "name": "stdout",
     "output_type": "stream",
     "text": [
      "Parameter corrections: [[ 1.52468260e-16 -3.23995053e-16]]\n",
      "Covariance:\n",
      " [[ 0.0021458 -0.0053645]\n",
      " [-0.0053645  0.0160935]]\n",
      "Residuals: [[-0.23655513  0.87613011 -0.34728306  1.28623357 -0.40768012  1.50992637\n",
      "  -0.44291173  1.64041383]]\n",
      "Covariance:\n",
      " [[ 2.03840060e-04 -7.54963184e-04 -2.71786746e-04  1.00661758e-03\n",
      "  -6.79466866e-05  2.51654395e-04  1.35893373e-04 -5.03308789e-04]\n",
      " [-7.54963184e-04  2.79615994e-03  1.00661758e-03 -3.72821325e-03\n",
      "   2.51654395e-04 -9.32053313e-04 -5.03308789e-04  1.86410663e-03]\n",
      " [-2.71786746e-04  1.00661758e-03  4.75626806e-04 -1.76158076e-03\n",
      "  -1.35893373e-04  5.03308789e-04 -6.79466866e-05  2.51654395e-04]\n",
      " [ 1.00661758e-03 -3.72821325e-03 -1.76158076e-03  6.52437319e-03\n",
      "   5.03308789e-04 -1.86410663e-03  2.51654395e-04 -9.32053313e-04]\n",
      " [-6.79466866e-05  2.51654395e-04 -1.35893373e-04  5.03308789e-04\n",
      "   4.75626806e-04 -1.76158076e-03 -2.71786746e-04  1.00661758e-03]\n",
      " [ 2.51654395e-04 -9.32053313e-04  5.03308789e-04 -1.86410663e-03\n",
      "  -1.76158076e-03  6.52437319e-03  1.00661758e-03 -3.72821325e-03]\n",
      " [ 1.35893373e-04 -5.03308789e-04 -6.79466866e-05  2.51654395e-04\n",
      "  -2.71786746e-04  1.00661758e-03  2.03840060e-04 -7.54963184e-04]\n",
      " [-5.03308789e-04  1.86410663e-03  2.51654395e-04 -9.32053313e-04\n",
      "   1.00661758e-03 -3.72821325e-03 -7.54963184e-04  2.79615994e-03]]\n",
      "Adjusted obs: [[0.76344487 2.87613011 2.65271694 5.28623357 0.69231988 2.70992637\n",
      "  1.05708827 3.54041383]]\n",
      "Covariance:\n",
      " [[ 9.79615994e-03  7.54963184e-04  2.71786746e-04 -1.00661758e-03\n",
      "   6.79466866e-05 -2.51654395e-04 -1.35893373e-04  5.03308789e-04]\n",
      " [ 7.54963184e-04  7.20384006e-03 -1.00661758e-03  3.72821325e-03\n",
      "  -2.51654395e-04  9.32053313e-04  5.03308789e-04 -1.86410663e-03]\n",
      " [ 2.71786746e-04 -1.00661758e-03  9.52437319e-03  1.76158076e-03\n",
      "   1.35893373e-04 -5.03308789e-04  6.79466866e-05 -2.51654395e-04]\n",
      " [-1.00661758e-03  3.72821325e-03  1.76158076e-03  3.47562681e-03\n",
      "  -5.03308789e-04  1.86410663e-03 -2.51654395e-04  9.32053313e-04]\n",
      " [ 6.79466866e-05 -2.51654395e-04  1.35893373e-04 -5.03308789e-04\n",
      "   9.52437319e-03  1.76158076e-03  2.71786746e-04 -1.00661758e-03]\n",
      " [-2.51654395e-04  9.32053313e-04 -5.03308789e-04  1.86410663e-03\n",
      "   1.76158076e-03  3.47562681e-03 -1.00661758e-03  3.72821325e-03]\n",
      " [-1.35893373e-04  5.03308789e-04  6.79466866e-05 -2.51654395e-04\n",
      "   2.71786746e-04 -1.00661758e-03  9.79615994e-03  7.54963184e-04]\n",
      " [ 5.03308789e-04 -1.86410663e-03 -2.51654395e-04  9.32053313e-04\n",
      "  -1.00661758e-03  3.72821325e-03  7.54963184e-04  7.20384006e-03]]\n"
     ]
    }
   ],
   "source": [
    "m=0    # initialize to a horizontal line\n",
    "b=1.5  # through kind of a middling height\n",
    "d = np.array([m,b]).reshape((2,1))\n",
    "l = np.array([1,2,3,4, 1.1,1.2,1.5,1.9]).reshape((8,1))\n",
    "B=np.array([[-1,-1], [-2,-1], [-3,-1], [-4,-1]])\n",
    "\n",
    "for i in range(2):\n",
    "    A=np.array([ [-m,1,  0,0,0,0,0,0],\n",
    "                 [0,0, -m,1, 0,0,0,0],\n",
    "                 [0,0,0,0, -m,1, 0,0],\n",
    "                 [0,0,0,0,0,0,  -m,1]])\n",
    "    f=np.array([[-l[4,0] + m*l[0,0] + b],\n",
    "                [-l[5,0] + m*l[1,0] + b],\n",
    "                [-l[6,0] + m*l[2,0] + b],\n",
    "                [-l[7,0] + m*l[3,0] + b] ])\n",
    "    Q=np.eye(8)*0.1*0.1\n",
    "\n",
    "    d = general_iteration(A,B,f,l,Q,d, i)\n",
    "    m = d[0,0]\n",
    "    b = d[1,0]\n"
   ]
  },
  {
   "cell_type": "code",
   "execution_count": 86,
   "id": "e37e2a0c",
   "metadata": {},
   "outputs": [
    {
     "data": {
      "text/plain": [
       "array([[0.27],\n",
       "       [0.75]])"
      ]
     },
     "execution_count": 86,
     "metadata": {},
     "output_type": "execute_result"
    }
   ],
   "source": [
    "d # the final solution for m,b, same as before"
   ]
  },
  {
   "cell_type": "markdown",
   "id": "1ba1a1c2",
   "metadata": {},
   "source": [
    "## HW4 \n",
    "\n",
    "Use both methods to solve for the angles of a triangle given observed measurements of 70, 76, 35 deg, sigma 0.5."
   ]
  },
  {
   "cell_type": "markdown",
   "id": "167fea6e",
   "metadata": {},
   "source": [
    "### Indirect Observations\n",
    "\n",
    "* $n=3$ angles measured\n",
    "* $n_0=2$, any two true angles determines that the third is 180-\n",
    "* $r=1$\n",
    "* $u=2$, solve for angles 1 and 2\n",
    "* $c=3$: each equation is simply $\\hat{l}_i=\\alpha_i$, except the third one is 180-\n",
    "\n",
    "$$\\begin{align}\n",
    "v_1 + a_1 & = -l_1 \\\\\n",
    "v_2 + a_2 & = -l_2 \\\\\n",
    "v_3 - a_1 - a_2 & = -l_3 + 180\n",
    "\\end{align}$$"
   ]
  },
  {
   "cell_type": "code",
   "execution_count": 55,
   "id": "b42dba84",
   "metadata": {},
   "outputs": [
    {
     "name": "stdout",
     "output_type": "stream",
     "text": [
      "Problem shape:\n",
      "  n: 3\n",
      " n0: 2\n",
      "  r: 1\n",
      "  u: 2\n",
      "  c: 3\n",
      "Problem:\n",
      "B:\n",
      " [[ 1  0]\n",
      " [ 0  1]\n",
      " [-1 -1]]\n",
      "f: [[-70 -76 145]]\n",
      "Q:\n",
      " [[0.25 0.   0.  ]\n",
      " [0.   0.25 0.  ]\n",
      " [0.   0.   0.25]]\n",
      "\n",
      "Normal Equations:\n",
      "Weight:\n",
      " [[4. 0. 0.]\n",
      " [0. 4. 0.]\n",
      " [0. 0. 4.]]\n",
      "N:\n",
      " [[8. 4.]\n",
      " [4. 8.]]\n",
      "t: [[-860. -884.]]\n",
      "\n",
      "Solution\n",
      "Parameters: [[-69.66666667 -75.66666667]]\n",
      "Parameter covariance:\n",
      " [[ 0.16666667 -0.08333333]\n",
      " [-0.08333333  0.16666667]]\n",
      "Residuals: [[-0.33333333 -0.33333333 -0.33333333]]\n",
      "Residual covariance:\n",
      " [[0.08333333 0.08333333 0.08333333]\n",
      " [0.08333333 0.08333333 0.08333333]\n",
      " [0.08333333 0.08333333 0.08333333]]\n",
      "Original observations: [[70 76 35]]\n",
      "Adjusted observations: [[69.66666667 75.66666667 34.66666667]]\n",
      "Covariance:\n",
      " [[ 0.16666667 -0.08333333 -0.08333333]\n",
      " [-0.08333333  0.16666667 -0.08333333]\n",
      " [-0.08333333 -0.08333333  0.16666667]]\n"
     ]
    }
   ],
   "source": [
    "l = np.array([70,76,35]).reshape( (3,1) )\n",
    "B=np.array([[1,0],[0,1],[-1,-1]])\n",
    "f = -l\n",
    "f[2,0] += 180\n",
    "Q = np.eye(3)*0.5*0.5\n",
    "print_indirect_observations(B,f,l,Q)"
   ]
  },
  {
   "cell_type": "markdown",
   "id": "c6edaf54",
   "metadata": {},
   "source": [
    "### Observations only\n",
    "\n",
    "As before, $n=3, n_0=2, r=1$, but with $u=0$, $c=r+u=1$. The one equation is that the sum of the angles is 180.\n",
    "\n",
    "$$\\hat{l}_1 + \\hat{l}_2 + \\hat{l}_3 = 180$$\n",
    "$$v_1 + v_2 + v_3 = 180 - l_1 - l_2 - l_3$$\n",
    "\n"
   ]
  },
  {
   "cell_type": "code",
   "execution_count": 56,
   "id": "0d05ead4",
   "metadata": {},
   "outputs": [
    {
     "name": "stdout",
     "output_type": "stream",
     "text": [
      "Problem shape:\n",
      "  n: 3\n",
      " n0: 2\n",
      "  r: 1\n",
      "  u: 0\n",
      "  c: 1\n",
      "Problem:\n",
      "A:\n",
      " [[1 1 1]]\n",
      "f: [[-1]]\n",
      "Q:\n",
      " [[0.25 0.   0.  ]\n",
      " [0.   0.25 0.  ]\n",
      " [0.   0.   0.25]]\n",
      "\n",
      "Solution:\n",
      "Equiv cov:\n",
      " [[0.75]]\n",
      "Equiv wgt:\n",
      " [[1.33333333]]\n",
      "Residuals: [[-0.33333333 -0.33333333 -0.33333333]]\n",
      "Covariance:\n",
      " [[0.08333333 0.08333333 0.08333333]\n",
      " [0.08333333 0.08333333 0.08333333]\n",
      " [0.08333333 0.08333333 0.08333333]]\n",
      "Adjusted obs: [[69.66666667 75.66666667 34.66666667]]\n",
      "Covariance:\n",
      " [[ 0.16666667 -0.08333333 -0.08333333]\n",
      " [-0.08333333  0.16666667 -0.08333333]\n",
      " [-0.08333333 -0.08333333  0.16666667]]\n"
     ]
    }
   ],
   "source": [
    "B = np.array([[1,1,1]])\n",
    "f = np.array([[180 - np.sum(l)]])\n",
    "print_observations_only(B,f,l,Q)"
   ]
  },
  {
   "cell_type": "code",
   "execution_count": null,
   "id": "b9b5a686",
   "metadata": {},
   "outputs": [],
   "source": []
  }
 ],
 "metadata": {
  "kernelspec": {
   "display_name": "Python 3 (ipykernel)",
   "language": "python",
   "name": "python3"
  },
  "language_info": {
   "codemirror_mode": {
    "name": "ipython",
    "version": 3
   },
   "file_extension": ".py",
   "mimetype": "text/x-python",
   "name": "python",
   "nbconvert_exporter": "python",
   "pygments_lexer": "ipython3",
   "version": "3.10.12"
  }
 },
 "nbformat": 4,
 "nbformat_minor": 5
}
