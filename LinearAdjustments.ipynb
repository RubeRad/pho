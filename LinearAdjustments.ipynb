{
 "cells": [
  {
   "cell_type": "markdown",
   "id": "bcc5559c",
   "metadata": {},
   "source": [
    "# Linear Adjustments"
   ]
  },
  {
   "cell_type": "markdown",
   "id": "ec343acd",
   "metadata": {},
   "source": [
    "## Critical quantities\n",
    "\n",
    "These 5 values need to be determined every time\n",
    "\n",
    "* $n$: The number of observations (they are uncertain i.e. have covariance $\\Sigma$ -- which is the point).\n",
    "* $n_0$: The number of values (observations or parameters) that need to be fixed to determine 'the model'.\n",
    "* $r$: Redundancy: $r=n-n_0$.\n",
    "* $u$: Number of unknown parameters.\n",
    "* $c$: Number of condition equations: $c=r+u$.\n",
    "\n",
    "The first 3 are determined analytically, then $u$ and $c$ flow from them."
   ]
  },
  {
   "cell_type": "markdown",
   "id": "f891fa93",
   "metadata": {},
   "source": [
    "## Method of Indirect Observations\n",
    "In this method we solve for the parameters, so $u$ is that number. For instance for fitting a line, parameters are slope and intercept $m,b$, so $u=2$.\n",
    "\n",
    "Once the $c=r+u$ condition equations are written, with all uncertain observations $\\hat{l}_i$ expanded to solved observations plus residuals $l_i + v_i$, the linear system is formed/rearranged as $$v + B\\Delta=f$$\n",
    "\n",
    "Then the solution method is this series of matrix calculations:\n",
    "\n",
    "* Weight matrix $W=\\Sigma^{-1}$\n",
    "* Normal equations: $N=B'WB$ and $t=B'Wf$\n",
    "* Parameter solution: solve $N\\Delta=t \\Rightarrow \\Delta = N^{-1}t$\n",
    "* Residuals: $v=f-B\\Delta$\n",
    "* Covariance of parameters: $\\Sigma_{\\Delta\\Delta} = N^{-1}$\n",
    "* Covariance of residuals: $\\Sigma_{vv} = \\Sigma - BQ_{\\Delta\\Delta}B'$\n",
    "* Adjusted observations: $\\hat{l} = -fN' + v$\n",
    "* Covariance of $\\hat{l}$: $\\Sigma_{\\hat{l}\\hat{l}}=\\Sigma-\\Sigma{vv}$\n",
    "\n",
    "\n"
   ]
  },
  {
   "cell_type": "code",
   "execution_count": 1,
   "id": "e1c464ef",
   "metadata": {},
   "outputs": [],
   "source": [
    "import numpy as np"
   ]
  },
  {
   "cell_type": "code",
   "execution_count": 50,
   "id": "851038bb",
   "metadata": {},
   "outputs": [],
   "source": [
    "def print_indirect_observations(B, f, l=None, Q=None):\n",
    "    c,u = B.shape\n",
    "    r = c-u\n",
    "    n0 = u      # always for indirect observations\n",
    "    n  = n0 + r # always\n",
    "    print('Problem shape:')\n",
    "    print('  n:', n)\n",
    "    print(' n0:', n0)\n",
    "    print('  r:', r)\n",
    "    print('  u:', u)\n",
    "    print('  c:', c)\n",
    "    \n",
    "    print('Problem:')\n",
    "    print('B:\\n', B)\n",
    "    print('f:', f.transpose())\n",
    "    \n",
    "    print('Normal Equations:')\n",
    "    if Q is None: Q = np.eye(n)\n",
    "    W = np.linalg.inv(cov)\n",
    "    print('Weight:\\n',W)\n",
    "    N = B.transpose() @ W @ B\n",
    "    t = B.transpose() @ W @ f\n",
    "    print('N:\\n', N)\n",
    "    print('t:', t.transpose())\n",
    "    \n",
    "    print('Solution')\n",
    "    d = np.linalg.solve(N,t)\n",
    "    print('Parameters:', d.transpose())\n",
    "    Qdd = np.linalg.inv(N)\n",
    "    print('Parameter covariance:\\n',Qdd) \n",
    "    \n",
    "    v = f - B@d\n",
    "    print('Residuals:', v.transpose())\n",
    "    Qvv = Q - B @ Qdd @ B.transpose()\n",
    "    print('Residual covariance:\\n', Qvv)\n",
    "    \n",
    "    if l is not None:\n",
    "        lhat = l + v\n",
    "        print('Original observations:', l.transpose())\n",
    "        print('Adjusted observations:', lhat.transpose())\n",
    "        Qll = Q - Qvv\n",
    "        print('Covariance:\\n',Qll)\n",
    "    "
   ]
  },
  {
   "cell_type": "markdown",
   "id": "9ad278ff",
   "metadata": {},
   "source": [
    "Line fit example: points (1,1.1), (2,1.2), (3,1.5), (4,1.9) with $s_i=0.1$. \n",
    "\n",
    "* $n=4$: the four $y_i$\n",
    "* $n_0=2$: line parameters $m,b$\n",
    "* $r=2$\n",
    "* $u=2$\n",
    "* $c=4$, the line equations $\\hat{y_i}=(y_i+v_i) = mx_i + b$\n",
    "\n",
    "Condition equations reshape to $$v_i + -mx_i - b = -y_i$$"
   ]
  },
  {
   "cell_type": "code",
   "execution_count": 56,
   "id": "5415f7c9",
   "metadata": {},
   "outputs": [
    {
     "data": {
      "text/plain": [
       "array([[-1, -1],\n",
       "       [-2, -1],\n",
       "       [-3, -1],\n",
       "       [-4, -1]])"
      ]
     },
     "execution_count": 56,
     "metadata": {},
     "output_type": "execute_result"
    }
   ],
   "source": [
    "B = np.array([ [-1,-1], [-2,-1], [-3,-1], [-4,-1] ])\n",
    "B"
   ]
  },
  {
   "cell_type": "code",
   "execution_count": 57,
   "id": "4b0f814b",
   "metadata": {},
   "outputs": [
    {
     "data": {
      "text/plain": [
       "array([[-1.1],\n",
       "       [-1.2],\n",
       "       [-1.5],\n",
       "       [-1.9]])"
      ]
     },
     "execution_count": 57,
     "metadata": {},
     "output_type": "execute_result"
    }
   ],
   "source": [
    "f = np.array([-1.1, -1.2, -1.5, -1.9]).reshape( (4,1) )\n",
    "f"
   ]
  },
  {
   "cell_type": "code",
   "execution_count": 58,
   "id": "e89821b1",
   "metadata": {},
   "outputs": [],
   "source": [
    "cov = np.eye(4) * 0.1*0.1"
   ]
  },
  {
   "cell_type": "code",
   "execution_count": 59,
   "id": "dba9c062",
   "metadata": {},
   "outputs": [
    {
     "name": "stdout",
     "output_type": "stream",
     "text": [
      "Problem shape:\n",
      "  n: 4\n",
      " n0: 2\n",
      "  r: 2\n",
      "  u: 2\n",
      "  c: 4\n",
      "Problem:\n",
      "B:\n",
      " [[-1 -1]\n",
      " [-2 -1]\n",
      " [-3 -1]\n",
      " [-4 -1]]\n",
      "f: [[-1.1 -1.2 -1.5 -1.9]]\n",
      "Normal Equations:\n",
      "Weight:\n",
      " [[100.   0.   0.   0.]\n",
      " [  0. 100.   0.   0.]\n",
      " [  0.   0. 100.   0.]\n",
      " [  0.   0.   0. 100.]]\n",
      "N:\n",
      " [[3000. 1000.]\n",
      " [1000.  400.]]\n",
      "t: [[1560.  570.]]\n",
      "Solution\n",
      "Parameters: [[0.27 0.75]]\n",
      "Parameter covariance:\n",
      " [[ 0.002 -0.005]\n",
      " [-0.005  0.015]]\n",
      "Residuals: [[-0.08  0.09  0.06 -0.07]]\n",
      "Residual covariance:\n",
      " [[ 0.003 -0.004 -0.001  0.002]\n",
      " [-0.004  0.007 -0.002 -0.001]\n",
      " [-0.001 -0.002  0.007 -0.004]\n",
      " [ 0.002 -0.001 -0.004  0.003]]\n",
      "Original observations: [[1.1 1.2 1.5 1.9]]\n",
      "Adjusted observations: [[1.02 1.29 1.56 1.83]]\n",
      "Covariance:\n",
      " [[ 0.007  0.004  0.001 -0.002]\n",
      " [ 0.004  0.003  0.002  0.001]\n",
      " [ 0.001  0.002  0.003  0.004]\n",
      " [-0.002  0.001  0.004  0.007]]\n"
     ]
    }
   ],
   "source": [
    "print_indirect_observations(B, f, -f, cov)"
   ]
  },
  {
   "cell_type": "code",
   "execution_count": null,
   "id": "cb26ca5c",
   "metadata": {},
   "outputs": [],
   "source": []
  },
  {
   "cell_type": "code",
   "execution_count": null,
   "id": "e88c3c97",
   "metadata": {},
   "outputs": [],
   "source": []
  }
 ],
 "metadata": {
  "kernelspec": {
   "display_name": "Python 3 (ipykernel)",
   "language": "python",
   "name": "python3"
  },
  "language_info": {
   "codemirror_mode": {
    "name": "ipython",
    "version": 3
   },
   "file_extension": ".py",
   "mimetype": "text/x-python",
   "name": "python",
   "nbconvert_exporter": "python",
   "pygments_lexer": "ipython3",
   "version": "3.10.12"
  }
 },
 "nbformat": 4,
 "nbformat_minor": 5
}
